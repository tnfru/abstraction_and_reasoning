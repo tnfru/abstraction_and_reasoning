{
  "nbformat": 4,
  "nbformat_minor": 0,
  "metadata": {
    "colab": {
      "name": "ARC.ipynb",
      "provenance": [],
      "collapsed_sections": [
        "NCEATf256UID",
        "8o7bNcH-m1ZT"
      ],
      "include_colab_link": true
    },
    "kernelspec": {
      "name": "python3",
      "display_name": "Python 3"
    },
    "accelerator": "GPU"
  },
  "cells": [
    {
      "cell_type": "markdown",
      "metadata": {
        "id": "view-in-github",
        "colab_type": "text"
      },
      "source": [
        "<a href=\"https://colab.research.google.com/github/tnfru/abstraction_and_reasoning/blob/master/ARC.ipynb\" target=\"_parent\"><img src=\"https://colab.research.google.com/assets/colab-badge.svg\" alt=\"Open In Colab\"/></a>"
      ]
    },
    {
      "cell_type": "code",
      "metadata": {
        "id": "grWM-1SYcqeb",
        "colab_type": "code",
        "outputId": "e897ecee-91e7-4315-823d-a7fa4cc9d285",
        "colab": {
          "base_uri": "https://localhost:8080/",
          "height": 34
        }
      },
      "source": [
        "import os, sys\n",
        "import json\n",
        "from google_drive_downloader import GoogleDriveDownloader as gdd\n",
        "from pathlib import Path\n",
        "from matplotlib import pyplot as plt\n",
        "from matplotlib import colors\n",
        "import numpy as np\n",
        "from tqdm import tqdm\n",
        "\n",
        "if 'google.colab' in sys.modules:\n",
        "  %tensorflow_version 2.x\n",
        "import tensorflow as tf\n",
        "from tensorflow.keras.layers import Conv2D, BatchNormalization, Activation, Input\n",
        "from tensorflow.keras import Sequential\n",
        "\n",
        "# tf.compat.v1.disable_eager_execution()"
      ],
      "execution_count": 1,
      "outputs": [
        {
          "output_type": "stream",
          "text": [
            "TensorFlow 2.x selected.\n"
          ],
          "name": "stdout"
        }
      ]
    },
    {
      "cell_type": "markdown",
      "metadata": {
        "id": "NCEATf256UID",
        "colab_type": "text"
      },
      "source": [
        "## Set up hardware"
      ]
    },
    {
      "cell_type": "code",
      "metadata": {
        "id": "vd6ZfNAv6SdY",
        "colab_type": "code",
        "outputId": "446faa22-cc84-481f-a8f4-5388fe2d52a8",
        "colab": {
          "base_uri": "https://localhost:8080/",
          "height": 52
        }
      },
      "source": [
        "try:\n",
        "  tpu = tf.distribute.cluster_resolver.TPUClusterResolver()\n",
        "except ValueError:\n",
        "  tpu = None\n",
        "  gpus = tf.config.experimental.list_logical_devices(\"GPU\")\n",
        "\n",
        "if tpu:\n",
        "  tf.config.experimental_connect_to_cluster(tpu)\n",
        "  tf.tpu.experimental.initialize_tpu_system(tpu)\n",
        "  strategy = tf.distribute.experimental.TPUStrategy(tpu)\n",
        "  print('Running on TPU ', tpu.master())  \n",
        "elif len(gpus) > 0:\n",
        "  strategy = tf.distribute.MirroredStrategy(gpus)\n",
        "  print('Running on ', len(gpus), ' GPU(s) ')\n",
        "else:\n",
        "  strategy = tf.distribute.get_strategy()\n",
        "  print('Running on CPU')"
      ],
      "execution_count": 3,
      "outputs": [
        {
          "output_type": "stream",
          "text": [
            "INFO:tensorflow:Using MirroredStrategy with devices ('/job:localhost/replica:0/task:0/device:GPU:0',)\n",
            "Running on  1  GPU(s) \n"
          ],
          "name": "stdout"
        }
      ]
    },
    {
      "cell_type": "markdown",
      "metadata": {
        "id": "8o7bNcH-m1ZT",
        "colab_type": "text"
      },
      "source": [
        "# Read Data"
      ]
    },
    {
      "cell_type": "code",
      "metadata": {
        "id": "7Mz6lUS9ens3",
        "colab_type": "code",
        "colab": {}
      },
      "source": [
        "gdd.download_file_from_google_drive(file_id='1FUk30rXuym1RygfaDq4g-Uj-CkkG63IE',\n",
        "                                    dest_path='./data/arc.zip',\n",
        "                                    unzip=True)"
      ],
      "execution_count": 0,
      "outputs": []
    },
    {
      "cell_type": "code",
      "metadata": {
        "id": "hhsP-DzIgTiR",
        "colab_type": "code",
        "colab": {}
      },
      "source": [
        "PATH = Path('./data/')\n",
        "TRAIN_PATH = PATH / 'training'\n",
        "VAL_PATH = PATH / 'evaluation'\n",
        "TEST_PATH = PATH / 'test'"
      ],
      "execution_count": 0,
      "outputs": []
    },
    {
      "cell_type": "code",
      "metadata": {
        "id": "ZUX4Prf_w2Ow",
        "colab_type": "code",
        "colab": {}
      },
      "source": [
        "def read_tasks(path):\n",
        "  files = sorted(os.listdir(path))\n",
        "  tasks = []\n",
        "\n",
        "  for file in files:\n",
        "    task_file = str(path / file)\n",
        "\n",
        "    with open(task_file, 'r') as f:\n",
        "      task = json.load(f)\n",
        "\n",
        "    tasks.append(task)\n",
        "  \n",
        "  return tasks"
      ],
      "execution_count": 0,
      "outputs": []
    },
    {
      "cell_type": "code",
      "metadata": {
        "id": "TI_Jct02wU8B",
        "colab_type": "code",
        "outputId": "88205d36-ebf8-4e22-c368-590e1d388b4c",
        "colab": {
          "base_uri": "https://localhost:8080/",
          "height": 34
        }
      },
      "source": [
        "train_tasks = read_tasks(TRAIN_PATH)\n",
        "val_tasks = read_tasks(VAL_PATH)\n",
        "test_tasks = read_tasks(TEST_PATH)\n",
        "\n",
        "len(train_tasks), len(val_tasks), len(test_tasks)"
      ],
      "execution_count": 5,
      "outputs": [
        {
          "output_type": "execute_result",
          "data": {
            "text/plain": [
              "(400, 400, 100)"
            ]
          },
          "metadata": {
            "tags": []
          },
          "execution_count": 5
        }
      ]
    },
    {
      "cell_type": "markdown",
      "metadata": {
        "id": "6wjs0H5p1scI",
        "colab_type": "text"
      },
      "source": [
        "# Data Vizualization"
      ]
    },
    {
      "cell_type": "markdown",
      "metadata": {
        "id": "2jDkYb4uv1oT",
        "colab_type": "text"
      },
      "source": [
        "#### Plot function"
      ]
    },
    {
      "cell_type": "code",
      "metadata": {
        "id": "67915N5nl7-v",
        "colab_type": "code",
        "colab": {
          "base_uri": "https://localhost:8080/",
          "height": 130
        },
        "outputId": "83f3df34-88c7-43cd-cf62-fbe7ceb5d351"
      },
      "source": [
        "cmap = colors.ListedColormap(\n",
        "        ['#000000', '#0074D9','#FF4136','#2ECC40','#FFDC00',\n",
        "         '#AAAAAA', '#F012BE', '#FF851B', '#7FDBFF', '#870C25'])\n",
        "norm = colors.Normalize(vmin=0, vmax=9)\n",
        "\n",
        "def plot_example(ax, task, i, isType):\n",
        "    ax[0].imshow(task[isType][i]['input'], cmap=cmap, norm=norm)\n",
        "    ax[0].axis('off')\n",
        "    ax[0].set_title(isType + ' Input')\n",
        "    ax[0].grid(True,which='both',color='lightgrey', linewidth=0.5)\n",
        "    ax[1].imshow(task[isType][i]['output'], cmap=cmap, norm=norm)\n",
        "    ax[1].axis('off')\n",
        "    ax[1].set_title(isType + ' Output')\n",
        "    ax[1].grid(True,which='both',color='lightgrey', linewidth=0.5)\n",
        "\n",
        "def plot_task(task):\n",
        "    \"\"\"\n",
        "    credits: \n",
        "    kaggle.com/inversion/abstraction-and-reasoning-starter-notebook\n",
        "    kaggle.com/boliu0/visualizing-all-task-pairs-with-gridlines/notebook\n",
        "    \"\"\"\n",
        "    task_count = len(task['train'])\n",
        "    test_count = len(task['test'])\n",
        "\n",
        "    fig, ax = plt.subplots(2, task_count , figsize=(10,6))\n",
        "\n",
        "    for i in range(task_count):\n",
        "      plot_example(ax[:,i], task, i, 'train')\n",
        "\n",
        "    plt.tight_layout()\n",
        "    plt.show()\n",
        "\n",
        "    fig, ax = plt.subplots(2, test_count , figsize=(6,6))\n",
        "    \n",
        "    if test_count == 1:\n",
        "      plot_example(ax, task, 0, 'test')\n",
        "    else:\n",
        "      for i in range(test_count):\n",
        "        plot_example(ax[:,i], task, i, 'test')\n",
        "\n",
        "    plt.tight_layout()\n",
        "    plt.show()\n",
        "\n",
        "def plot_pictures(pictures, labels):\n",
        "  \"\"\"\n",
        "  from: kaggle.com/teddykoker/training-cellular-automata-part-ii-learning-tasks\n",
        "  \"\"\"\n",
        "    fig, axs = plt.subplots(1, len(pictures), figsize=(2*len(pictures),32))\n",
        "    for i, (pict, label) in enumerate(zip(pictures, labels)):\n",
        "        axs[i].imshow(np.array(pict), cmap=cmap, norm=norm)\n",
        "        axs[i].set_title(label)\n",
        "    plt.show()\n",
        "    \n",
        "def plot_sample(sample, predict=None):\n",
        "    if predict is None:\n",
        "        plot_pictures([sample['input'], sample['output']], ['Input', 'Output'])\n",
        "    else:\n",
        "        plot_pictures([sample['input'], sample['output'], predict], ['Input', 'Output', 'Predict'])\n",
        "       "
      ],
      "execution_count": 24,
      "outputs": [
        {
          "output_type": "error",
          "ename": "IndentationError",
          "evalue": "ignored",
          "traceback": [
            "\u001b[0;36m  File \u001b[0;32m\"<ipython-input-24-583f018a5ad5>\"\u001b[0;36m, line \u001b[0;32m48\u001b[0m\n\u001b[0;31m    fig, axs = plt.subplots(1, len(pictures), figsize=(2*len(pictures),32))\u001b[0m\n\u001b[0m    ^\u001b[0m\n\u001b[0;31mIndentationError\u001b[0m\u001b[0;31m:\u001b[0m unexpected indent\n"
          ]
        }
      ]
    },
    {
      "cell_type": "markdown",
      "metadata": {
        "id": "1pGBYpjHzQvH",
        "colab_type": "text"
      },
      "source": [
        "## Visualize some tasks"
      ]
    },
    {
      "cell_type": "code",
      "metadata": {
        "id": "fFoTqLe9nAFT",
        "colab_type": "code",
        "outputId": "71010dfd-9e54-4ff7-c42b-a2d7a4e7cd89",
        "colab": {
          "base_uri": "https://localhost:8080/",
          "height": 795
        }
      },
      "source": [
        "plot_task(train_tasks[1])"
      ],
      "execution_count": 9,
      "outputs": [
        {
          "output_type": "display_data",
          "data": {
            "image/png": "[encoded data removed]",
            "text/plain": [
              "<Figure size 720x432 with 10 Axes>"
            ]
          },
          "metadata": {
            "tags": []
          }
        },
        {
          "output_type": "display_data",
          "data": {
            "image/png": "[encoded data removed]",
            "text/plain": [
              "<Figure size 432x432 with 2 Axes>"
            ]
          },
          "metadata": {
            "tags": []
          }
        }
      ]
    },
    {
      "cell_type": "code",
      "metadata": {
        "id": "ARMgqNkVzGPG",
        "colab_type": "code",
        "outputId": "5f7e00fe-c4af-4b6a-cfff-8745494a4b34",
        "colab": {
          "base_uri": "https://localhost:8080/",
          "height": 865
        }
      },
      "source": [
        "plot_task(train_tasks[347])"
      ],
      "execution_count": 10,
      "outputs": [
        {
          "output_type": "display_data",
          "data": {
            "image/png": "[encoded data removed]",
            "text/plain": [
              "<Figure size 720x432 with 4 Axes>"
            ]
          },
          "metadata": {
            "tags": []
          }
        },
        {
          "output_type": "display_data",
          "data": {
            "image/png": "[encoded data removed]",
            "text/plain": [
              "<Figure size 432x432 with 2 Axes>"
            ]
          },
          "metadata": {
            "tags": []
          }
        }
      ]
    },
    {
      "cell_type": "code",
      "metadata": {
        "id": "SR_ARyXKzfzR",
        "colab_type": "code",
        "outputId": "09da1a04-0fb4-4608-d882-f8a0b2bf39da",
        "colab": {
          "base_uri": "https://localhost:8080/",
          "height": 865
        }
      },
      "source": [
        "plot_task(val_tasks[65])"
      ],
      "execution_count": 11,
      "outputs": [
        {
          "output_type": "display_data",
          "data": {
            "image/png": "[encoded data removed]",
            "text/plain": [
              "<Figure size 720x432 with 6 Axes>"
            ]
          },
          "metadata": {
            "tags": []
          }
        },
        {
          "output_type": "display_data",
          "data": {
            "image/png": "[encoded data removed]",
            "text/plain": [
              "<Figure size 432x432 with 2 Axes>"
            ]
          },
          "metadata": {
            "tags": []
          }
        }
      ]
    },
    {
      "cell_type": "markdown",
      "metadata": {
        "id": "AHjyMs1D9cY2",
        "colab_type": "text"
      },
      "source": [
        "# Transform data"
      ]
    },
    {
      "cell_type": "markdown",
      "metadata": {
        "id": "gxyNwORVqnSU",
        "colab_type": "text"
      },
      "source": [
        "### View how training examples are structurized"
      ]
    },
    {
      "cell_type": "code",
      "metadata": {
        "id": "gbt7rpl5zlAQ",
        "colab_type": "code",
        "outputId": "7b968656-e8e9-49ca-de5b-03cf5cb0126c",
        "colab": {
          "base_uri": "https://localhost:8080/",
          "height": 225
        }
      },
      "source": [
        "train_tasks[1]['train'][0]"
      ],
      "execution_count": 12,
      "outputs": [
        {
          "output_type": "execute_result",
          "data": {
            "text/plain": [
              "{'input': [[0, 0, 0, 0, 0, 0],\n",
              "  [0, 0, 3, 0, 0, 0],\n",
              "  [0, 3, 0, 3, 0, 0],\n",
              "  [0, 0, 3, 0, 3, 0],\n",
              "  [0, 0, 0, 3, 0, 0],\n",
              "  [0, 0, 0, 0, 0, 0]],\n",
              " 'output': [[0, 0, 0, 0, 0, 0],\n",
              "  [0, 0, 3, 0, 0, 0],\n",
              "  [0, 3, 4, 3, 0, 0],\n",
              "  [0, 0, 3, 4, 3, 0],\n",
              "  [0, 0, 0, 3, 0, 0],\n",
              "  [0, 0, 0, 0, 0, 0]]}"
            ]
          },
          "metadata": {
            "tags": []
          },
          "execution_count": 12
        }
      ]
    },
    {
      "cell_type": "code",
      "metadata": {
        "id": "etnB0rOSGBe6",
        "colab_type": "code",
        "colab": {}
      },
      "source": [
        "def input_dim_equals_output_dim(task, isTrain):\n",
        "  for example in task['train']:\n",
        "    if np.array(example['input']).shape != np.array(example['output']).shape:\n",
        "      return False\n",
        "  if isTrain:\n",
        "    for example in task['test']:\n",
        "      if np.array(example['input']).shape != np.array(example['output']).shape:\n",
        "        return False  \n",
        "  \n",
        "  return True"
      ],
      "execution_count": 0,
      "outputs": []
    },
    {
      "cell_type": "code",
      "metadata": {
        "id": "o9hFx-nmH0tJ",
        "colab_type": "code",
        "colab": {}
      },
      "source": [
        "def count_equal_dims(tasks, isTrain=True):\n",
        "  equal_dims = 0\n",
        "  for task in tasks:\n",
        "    equal_dims += input_dim_equals_output_dim(task, isTrain)\n",
        "  return equal_dims"
      ],
      "execution_count": 0,
      "outputs": []
    },
    {
      "cell_type": "code",
      "metadata": {
        "id": "2zuMRMgPHbuS",
        "colab_type": "code",
        "outputId": "8740ec95-817c-469c-959e-99204e113eee",
        "colab": {
          "base_uri": "https://localhost:8080/",
          "height": 69
        }
      },
      "source": [
        "print(\"Number of equal input and output shapes in train:\", count_equal_dims(train_tasks))\n",
        "print(\"Number of equal input and output shapes in val:\", count_equal_dims(val_tasks))\n",
        "print(\"Number of equal input and output shapes in test:\", count_equal_dims(test_tasks, isTrain=False))"
      ],
      "execution_count": 15,
      "outputs": [
        {
          "output_type": "stream",
          "text": [
            "Number of equal input and output shapes in train: 262\n",
            "Number of equal input and output shapes in val: 270\n",
            "Number of equal input and output shapes in test: 65\n"
          ],
          "name": "stdout"
        }
      ]
    },
    {
      "cell_type": "markdown",
      "metadata": {
        "id": "DAipsbk0v67l",
        "colab_type": "text"
      },
      "source": [
        "# Cellular Automata\n",
        "\n",
        "For every problem where the input shape is equal to the output shape we can use a Cellular Automata for the transformation.\n",
        "\n",
        "credits to [arseny-n](kaggle.com/arsenynerinovsky/cellular-automata-as-a-language-for-reasoning ) for introducing cellular automata to this problem set\n",
        "\n",
        " and to [teddykoker](https://www.kaggle.com/teddykoker/training-cellular-automata-part-i-game-of-life) for showing a learned version of a cellular automata and helper functions\n"
      ]
    },
    {
      "cell_type": "markdown",
      "metadata": {
        "id": "35JQ2YN9BMIS",
        "colab_type": "text"
      },
      "source": [
        "#### Helper functions from teddykoker"
      ]
    },
    {
      "cell_type": "code",
      "metadata": {
        "id": "O9woz4Biv5NG",
        "colab_type": "code",
        "colab": {}
      },
      "source": [
        "def inp2img(inp):\n",
        "    inp = np.array(inp)\n",
        "    img = np.full((inp.shape[0], inp.shape[1], 10), 0, dtype=np.float32)\n",
        "    for i in range(10):\n",
        "        img[:,:,i] = (inp==i)\n",
        "    return tf.expand_dims(img, 0)\n",
        "\n",
        "def calk_score(task_test, predict):\n",
        "    return [int(np.equal(sample['output'], pred).all()) for sample, pred in zip(task_test, predict)]\n"
      ],
      "execution_count": 0,
      "outputs": []
    },
    {
      "cell_type": "markdown",
      "metadata": {
        "id": "0nFLCf2njNXb",
        "colab_type": "text"
      },
      "source": [
        "## Define Model"
      ]
    },
    {
      "cell_type": "code",
      "metadata": {
        "id": "59vT7MVjxFla",
        "colab_type": "code",
        "colab": {}
      },
      "source": [
        "def get_model():\n",
        "  inputs = Input(shape=(None, None, 10))\n",
        "  x = Conv2D(128, 3, padding='same')(inputs)\n",
        "  x = Activation('relu')(x)\n",
        "  x = Conv2D(10, 1)(x)\n",
        "  outputs = tf.keras.activations.softmax(x, axis=3)\n",
        "\n",
        "  return tf.keras.Model(inputs=inputs, outputs=outputs)"
      ],
      "execution_count": 0,
      "outputs": []
    },
    {
      "cell_type": "code",
      "metadata": {
        "id": "LSftDA2s_IM-",
        "colab_type": "code",
        "colab": {}
      },
      "source": [
        "def solve_task(task, max_steps=10):\n",
        "  model = get_model()\n",
        "  epochs = 100\n",
        "  losses = []\n",
        "  \n",
        "  loss_fn = tf.keras.losses.SparseCategoricalCrossentropy()\n",
        "\n",
        "  for num_steps in range(1, max_steps):\n",
        "    optimizer = tf.keras.optimizers.Adam(learning_rate=(0.1 / (num_steps * 2)))\n",
        "\n",
        "    for epoch in range(epochs):\n",
        "      loss = 0.0\n",
        "\n",
        "      for sample in task:\n",
        "        with tf.GradientTape() as tape:\n",
        "          # predict output from input\n",
        "\n",
        "          x = inp2img(sample['input'])\n",
        "          y = tf.convert_to_tensor(sample['output'], dtype=tf.int8)\n",
        "\n",
        "          y_pred = model(tf.keras.activations.softmax(x, axis=3))\n",
        "          \n",
        "          for _ in range(num_steps):\n",
        "            y_pred = model(y_pred)\n",
        "\n",
        "          loss += loss_fn(y, y_pred)\n",
        "\n",
        "          # predict output from output to force stabilization\n",
        "\n",
        "          y_pred = model(inp2img(sample['output']))\n",
        "\n",
        "          loss += loss_fn(y, y_pred)\n",
        "\n",
        "        grads = tape.gradient(loss, model.trainable_weights)\n",
        "        optimizer.apply_gradients(zip(grads, model.trainable_weights))\n",
        "      \n",
        "      losses.append(loss)\n",
        "  \n",
        "  return model, np.array(losses)"
      ],
      "execution_count": 0,
      "outputs": []
    },
    {
      "cell_type": "code",
      "metadata": {
        "id": "eGOZTX-YWQV0",
        "colab_type": "code",
        "colab": {}
      },
      "source": [
        "def predict(model, task, num_steps=100):\n",
        "  predictions = []\n",
        "\n",
        "  for sample in task:\n",
        "    x = inp2img(sample['input'])\n",
        "    pred = model(tf.keras.activations.softmax(x, axis=3))\n",
        "    \n",
        "    for _ in range(num_steps):\n",
        "      pred = model(pred)\n",
        "    \n",
        "    predictions.append(tf.argmax(pred, axis=3).numpy().squeeze())\n",
        "  return predictions"
      ],
      "execution_count": 0,
      "outputs": []
    },
    {
      "cell_type": "code",
      "metadata": {
        "id": "R8nqE2F-k_in",
        "colab_type": "code",
        "colab": {}
      },
      "source": [
        "#task = train_tasks[1]['train']\n",
        "task = train_tasks[347]['train']"
      ],
      "execution_count": 0,
      "outputs": []
    },
    {
      "cell_type": "code",
      "metadata": {
        "id": "aA6JMojhRl5r",
        "colab_type": "code",
        "colab": {}
      },
      "source": [
        "model, losses = solve_task(task)"
      ],
      "execution_count": 0,
      "outputs": []
    },
    {
      "cell_type": "code",
      "metadata": {
        "id": "llTUW30mR0TG",
        "colab_type": "code",
        "colab": {
          "base_uri": "https://localhost:8080/",
          "height": 265
        },
        "outputId": "0add8ab1-d9fa-4517-e1be-be63fa42470e"
      },
      "source": [
        "plt.plot(losses);"
      ],
      "execution_count": 22,
      "outputs": [
        {
          "output_type": "display_data",
          "data": {
            "image/png": "[encoded data removed]",
            "text/plain": [
              "<Figure size 432x288 with 1 Axes>"
            ]
          },
          "metadata": {
            "tags": []
          }
        }
      ]
    },
    {
      "cell_type": "code",
      "metadata": {
        "id": "UpadHnQSY-yx",
        "colab_type": "code",
        "colab": {}
      },
      "source": [
        "pred = predict(model, task)"
      ],
      "execution_count": 0,
      "outputs": []
    },
    {
      "cell_type": "code",
      "metadata": {
        "id": "OdV5dbhMcCMF",
        "colab_type": "code",
        "colab": {
          "base_uri": "https://localhost:8080/",
          "height": 267
        },
        "outputId": "e7499cf4-7b6a-42c5-a360-a72f55da3c40"
      },
      "source": [
        "predictions = predict(model, task)\n",
        "for i in range(len(task)):\n",
        "    plot_sample(task[i], predictions[i])"
      ],
      "execution_count": 25,
      "outputs": [
        {
          "output_type": "display_data",
          "data": {
            "image/png": "[encoded data removed]",
            "text/plain": [
              "<Figure size 432x2304 with 3 Axes>"
            ]
          },
          "metadata": {
            "tags": []
          }
        },
        {
          "output_type": "display_data",
          "data": {
            "image/png": "[encoded data removed]",
            "text/plain": [
              "<Figure size 432x2304 with 3 Axes>"
            ]
          },
          "metadata": {
            "tags": []
          }
        }
      ]
    }
  ]
}
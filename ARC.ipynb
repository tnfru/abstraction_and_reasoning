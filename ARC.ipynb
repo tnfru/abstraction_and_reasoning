{
 "cells": [
  {
   "cell_type": "markdown",
   "metadata": {
    "colab_type": "text",
    "id": "view-in-github"
   },
   "source": [
    "<a href=\"https://colab.research.google.com/github/tnfru/abstraction_and_reasoning/blob/master/ARC.ipynb\" target=\"_parent\"><img src=\"https://colab.research.google.com/assets/colab-badge.svg\" alt=\"Open In Colab\"/></a>"
   ]
  },
  {
   "cell_type": "code",
   "execution_count": 1,
   "metadata": {
    "colab": {},
    "colab_type": "code",
    "id": "rTty1fNJbePh"
   },
   "outputs": [],
   "source": [
    "import sys\n",
    "if 'google.colab' in sys.modules:\n",
    "  %tensorflow_version 2.x\n",
    "\n",
    "  !wget https://raw.githubusercontent.com/tnfru/abstraction_and_reasoning/master/data_utils.py -P utils -nc\n",
    "\n",
    "  !wget https://raw.githubusercontent.com/tnfru/abstraction_and_reasoning/master/cellular_automata.py -P utils -nc\n",
    "  sys.path.append('utils')\n",
    "\n",
    "  from google_drive_downloader import GoogleDriveDownloader as gdd"
   ]
  },
  {
   "cell_type": "code",
   "execution_count": 2,
   "metadata": {
    "colab": {},
    "colab_type": "code",
    "id": "grWM-1SYcqeb"
   },
   "outputs": [],
   "source": [
    "import os, json\n",
    "import numpy as np\n",
    "from matplotlib import pyplot as plt\n",
    "\n",
    "import tensorflow as tf\n",
    "from tensorflow.keras.layers import Conv2D, BatchNormalization, Activation, Input, Dropout\n",
    "from tensorflow.keras.activations import softmax\n",
    "from tensorflow.keras import Sequential\n",
    "\n",
    "import data_utils\n",
    "from data_utils import plot_task, plot_prediction, inp2img\n",
    "import cellular_automata"
   ]
  },
  {
   "cell_type": "markdown",
   "metadata": {
    "colab_type": "text",
    "id": "NCEATf256UID"
   },
   "source": [
    "### Set strategy"
   ]
  },
  {
   "cell_type": "code",
   "execution_count": 3,
   "metadata": {
    "colab": {
     "base_uri": "https://localhost:8080/",
     "height": 52
    },
    "colab_type": "code",
    "id": "vd6ZfNAv6SdY",
    "outputId": "8f63c0bd-ae79-4db1-bb8c-ad0585dc8fbe"
   },
   "outputs": [
    {
     "name": "stdout",
     "output_type": "stream",
     "text": [
      "Running on CPU\n"
     ]
    }
   ],
   "source": [
    "gpus = tf.config.experimental.list_logical_devices(\"GPU\")\n",
    "\n",
    "if len(gpus) > 0:\n",
    "  strategy = tf.distribute.MirroredStrategy(gpus)\n",
    "  print('Running on ', len(gpus), ' GPU(s) ')\n",
    "else:\n",
    "  strategy = tf.distribute.get_strategy()\n",
    "  print('Running on CPU')"
   ]
  },
  {
   "cell_type": "markdown",
   "metadata": {
    "colab_type": "text",
    "id": "8o7bNcH-m1ZT"
   },
   "source": [
    "## Read Data"
   ]
  },
  {
   "cell_type": "code",
   "execution_count": 4,
   "metadata": {
    "colab": {
     "base_uri": "https://localhost:8080/",
     "height": 52
    },
    "colab_type": "code",
    "id": "7Mz6lUS9ens3",
    "outputId": "5d7544be-94a0-4b44-a7d3-9f3c19051283"
   },
   "outputs": [],
   "source": [
    "if 'google.colab' in sys.modules:\n",
    "  gdd.download_file_from_google_drive(file_id='1FUk30rXuym1RygfaDq4g-Uj-CkkG63IE',\n",
    "                                      dest_path='./data/arc.zip',\n",
    "                                      unzip=True)\n",
    "train_tasks, val_tasks, test_tasks = data_utils.get_task_sets()"
   ]
  },
  {
   "cell_type": "code",
   "execution_count": 5,
   "metadata": {
    "colab": {
     "base_uri": "https://localhost:8080/",
     "height": 69
    },
    "colab_type": "code",
    "id": "2zuMRMgPHbuS",
    "outputId": "85927503-708a-4d33-bec4-c12f097480e5"
   },
   "outputs": [
    {
     "name": "stdout",
     "output_type": "stream",
     "text": [
      "Number of equal input and output shapes in train: 262 of 400\n",
      "Number of equal input and output shapes in val: 270 of 400\n",
      "Number of equal input and output shapes in test: 65 of 100\n"
     ]
    }
   ],
   "source": [
    "print(\"Number of equal input and output shapes in train:\", data_utils.count_equal_dims(train_tasks), \"of\", len(train_tasks))\n",
    "print(\"Number of equal input and output shapes in val:\", data_utils.count_equal_dims(val_tasks), \"of\", len(val_tasks))\n",
    "print(\"Number of equal input and output shapes in test:\", data_utils.count_equal_dims(test_tasks, isTrain=False), \"of\", len(test_tasks))"
   ]
  },
  {
   "cell_type": "code",
   "execution_count": 6,
   "metadata": {
    "colab": {},
    "colab_type": "code",
    "id": "-HptRnmngvmY"
   },
   "outputs": [],
   "source": [
    "BENCHMARK_TASK_IDS = [1, 347, 26, 32]"
   ]
  },
  {
   "cell_type": "markdown",
   "metadata": {
    "colab_type": "text",
    "id": "DAipsbk0v67l"
   },
   "source": [
    "# Cellular Automata\n",
    "\n",
    "For every problem where the input shape is equal to the output shape we can use a Cellular Automata for the transformation.\n",
    "\n",
    "I want to thank [arseny-n](kaggle.com/arsenynerinovsky/cellular-automata-as-a-language-for-reasoning ) for introducing cellular automata to this problem set.\n",
    "\n",
    "The CA model I use here is an implementation of [teddykokers PyTorch CA](https://www.kaggle.com/teddykoker/training-cellular-automata-part-i-game-of-life) in tensorflow. I really like the the architecture teddy suggested, so I took the opportunity to practise translating a model from torch to tf.\n"
   ]
  },
  {
   "cell_type": "markdown",
   "metadata": {
    "colab_type": "text",
    "id": "OGqdo8tpzgbD"
   },
   "source": [
    "## Vizualize results"
   ]
  },
  {
   "cell_type": "code",
   "execution_count": 7,
   "metadata": {},
   "outputs": [],
   "source": [
    "def get_model():\n",
    "  inputs = Input(shape=(None, None, 10))\n",
    "  x = Conv2D(128, 3, padding='same')(inputs)\n",
    "  x = Activation('relu')(x)\n",
    "  x = Dropout(0.1)(x)\n",
    "  x = Conv2D(10, 1)(x)\n",
    "  outputs = softmax(x, axis=3)\n",
    "\n",
    "  return tf.keras.Model(inputs=inputs, outputs=outputs)"
   ]
  },
  {
   "cell_type": "code",
   "execution_count": 8,
   "metadata": {},
   "outputs": [
    {
     "data": {
      "image/png": "[encoded data removed]",
      "text/plain": [
       "<Figure size 432x288 with 1 Axes>"
      ]
     },
     "metadata": {
      "needs_background": "light"
     },
     "output_type": "display_data"
    },
    {
     "data": {
      "image/png": "[encoded data removed]",
      "text/plain": [
       "<Figure size 432x2304 with 3 Axes>"
      ]
     },
     "metadata": {
      "needs_background": "light"
     },
     "output_type": "display_data"
    },
    {
     "data": {
      "image/png": "[encoded data removed]",
      "text/plain": [
       "<Figure size 432x2304 with 3 Axes>"
      ]
     },
     "metadata": {
      "needs_background": "light"
     },
     "output_type": "display_data"
    },
    {
     "data": {
      "image/png": "[encoded data removed]",
      "text/plain": [
       "<Figure size 432x2304 with 3 Axes>"
      ]
     },
     "metadata": {
      "needs_background": "light"
     },
     "output_type": "display_data"
    },
    {
     "data": {
      "image/png": "[encoded data removed]",
      "text/plain": [
       "<Figure size 432x2304 with 3 Axes>"
      ]
     },
     "metadata": {
      "needs_background": "light"
     },
     "output_type": "display_data"
    },
    {
     "data": {
      "image/png": "[encoded data removed]",
      "text/plain": [
       "<Figure size 432x2304 with 3 Axes>"
      ]
     },
     "metadata": {
      "needs_background": "light"
     },
     "output_type": "display_data"
    },
    {
     "data": {
      "image/png": "[encoded data removed]",
      "text/plain": [
       "<Figure size 432x2304 with 3 Axes>"
      ]
     },
     "metadata": {
      "needs_background": "light"
     },
     "output_type": "display_data"
    }
   ],
   "source": [
    "cellular_automata.train_and_plot(train_tasks, [1], model_fn=get_model)"
   ]
  }
 ],
 "metadata": {
  "accelerator": "GPU",
  "colab": {
   "collapsed_sections": [],
   "include_colab_link": true,
   "name": "ARC.ipynb",
   "provenance": []
  },
  "kernelspec": {
   "display_name": "Python 3",
   "language": "python",
   "name": "python3"
  },
  "language_info": {
   "codemirror_mode": {
    "name": "ipython",
    "version": 3
   },
   "file_extension": ".py",
   "mimetype": "text/x-python",
   "name": "python",
   "nbconvert_exporter": "python",
   "pygments_lexer": "ipython3",
   "version": "3.7.6"
  }
 },
 "nbformat": 4,
 "nbformat_minor": 1
}

{
  "nbformat": 4,
  "nbformat_minor": 0,
  "metadata": {
    "colab": {
      "name": "ARC.ipynb",
      "provenance": [],
      "collapsed_sections": [
        "2jDkYb4uv1oT",
        "1pGBYpjHzQvH"
      ],
      "include_colab_link": true
    },
    "kernelspec": {
      "name": "python3",
      "display_name": "Python 3"
    },
    "accelerator": "GPU"
  },
  "cells": [
    {
      "cell_type": "markdown",
      "metadata": {
        "id": "view-in-github",
        "colab_type": "text"
      },
      "source": [
        "<a href=\"https://colab.research.google.com/github/tnfru/abstraction_and_reasoning/blob/master/ARC.ipynb\" target=\"_parent\"><img src=\"https://colab.research.google.com/assets/colab-badge.svg\" alt=\"Open In Colab\"/></a>"
      ]
    },
    {
      "cell_type": "code",
      "metadata": {
        "id": "grWM-1SYcqeb",
        "colab_type": "code",
        "colab": {
          "base_uri": "https://localhost:8080/",
          "height": 34
        },
        "outputId": "2477df1c-a85d-4d07-cf38-a6b9f5fc1e0c"
      },
      "source": [
        "import os, sys\n",
        "import json\n",
        "from google_drive_downloader import GoogleDriveDownloader as gdd\n",
        "from pathlib import Path\n",
        "from matplotlib import pyplot as plt\n",
        "from matplotlib import colors\n",
        "import numpy as np\n",
        "\n",
        "if 'google.colab' in sys.modules:\n",
        "  %tensorflow_version 2.x\n",
        "import tensorflow as tf\n",
        "from tensorflow.keras.layers import Conv2D, BatchNormalization, Activation, Input\n",
        "from tensorflow.keras import Sequential\n",
        "\n",
        "# tf.compat.v1.disable_eager_execution()"
      ],
      "execution_count": 1,
      "outputs": [
        {
          "output_type": "stream",
          "text": [
            "TensorFlow 2.x selected.\n"
          ],
          "name": "stdout"
        }
      ]
    },
    {
      "cell_type": "markdown",
      "metadata": {
        "id": "NCEATf256UID",
        "colab_type": "text"
      },
      "source": [
        "## Set up hardware"
      ]
    },
    {
      "cell_type": "code",
      "metadata": {
        "id": "vd6ZfNAv6SdY",
        "colab_type": "code",
        "outputId": "122849e2-cbee-4d62-d34a-cca6bd6a807b",
        "colab": {
          "base_uri": "https://localhost:8080/",
          "height": 52
        }
      },
      "source": [
        "try:\n",
        "  tpu = tf.distribute.cluster_resolver.TPUClusterResolver()\n",
        "except ValueError:\n",
        "  tpu = None\n",
        "  gpus = tf.config.experimental.list_logical_devices(\"GPU\")\n",
        "\n",
        "if tpu:\n",
        "  tf.config.experimental_connect_to_cluster(tpu)\n",
        "  tf.tpu.experimental.initialize_tpu_system(tpu)\n",
        "  strategy = tf.distribute.experimental.TPUStrategy(tpu)\n",
        "  print('Running on TPU ', tpu.master())  \n",
        "elif len(gpus) > 0:\n",
        "  strategy = tf.distribute.MirroredStrategy(gpus)\n",
        "  print('Running on ', len(gpus), ' GPU(s) ')\n",
        "else:\n",
        "  strategy = tf.distribute.get_strategy()\n",
        "  print('Running on CPU')"
      ],
      "execution_count": 2,
      "outputs": [
        {
          "output_type": "stream",
          "text": [
            "INFO:tensorflow:Using MirroredStrategy with devices ('/job:localhost/replica:0/task:0/device:GPU:0',)\n",
            "Running on  1  GPU(s) \n"
          ],
          "name": "stdout"
        }
      ]
    },
    {
      "cell_type": "markdown",
      "metadata": {
        "id": "8o7bNcH-m1ZT",
        "colab_type": "text"
      },
      "source": [
        "# Read Data"
      ]
    },
    {
      "cell_type": "code",
      "metadata": {
        "id": "7Mz6lUS9ens3",
        "colab_type": "code",
        "colab": {
          "base_uri": "https://localhost:8080/",
          "height": 52
        },
        "outputId": "c8066f7b-be40-4aff-feed-3aebb05320f9"
      },
      "source": [
        "gdd.download_file_from_google_drive(file_id='1FUk30rXuym1RygfaDq4g-Uj-CkkG63IE',\n",
        "                                    dest_path='./data/arc.zip',\n",
        "                                    unzip=True)"
      ],
      "execution_count": 3,
      "outputs": [
        {
          "output_type": "stream",
          "text": [
            "Downloading 1FUk30rXuym1RygfaDq4g-Uj-CkkG63IE into ./data/arc.zip... Done.\n",
            "Unzipping...Done.\n"
          ],
          "name": "stdout"
        }
      ]
    },
    {
      "cell_type": "code",
      "metadata": {
        "id": "hhsP-DzIgTiR",
        "colab_type": "code",
        "colab": {}
      },
      "source": [
        "PATH = Path('./data/')\n",
        "TRAIN_PATH = PATH / 'training'\n",
        "VAL_PATH = PATH / 'evaluation'\n",
        "TEST_PATH = PATH / 'test'"
      ],
      "execution_count": 0,
      "outputs": []
    },
    {
      "cell_type": "code",
      "metadata": {
        "id": "ZUX4Prf_w2Ow",
        "colab_type": "code",
        "colab": {}
      },
      "source": [
        "def read_tasks(path):\n",
        "  files = sorted(os.listdir(path))\n",
        "  tasks = []\n",
        "\n",
        "  for file in files:\n",
        "    task_file = str(path / file)\n",
        "\n",
        "    with open(task_file, 'r') as f:\n",
        "      task = json.load(f)\n",
        "\n",
        "    tasks.append(task)\n",
        "  \n",
        "  return tasks"
      ],
      "execution_count": 0,
      "outputs": []
    },
    {
      "cell_type": "code",
      "metadata": {
        "id": "TI_Jct02wU8B",
        "colab_type": "code",
        "outputId": "b70d9954-8458-4985-b2d4-965c22bf15d7",
        "colab": {
          "base_uri": "https://localhost:8080/",
          "height": 34
        }
      },
      "source": [
        "train_tasks = read_tasks(TRAIN_PATH)\n",
        "val_tasks = read_tasks(VAL_PATH)\n",
        "test_tasks = read_tasks(TEST_PATH)\n",
        "\n",
        "len(train_tasks), len(val_tasks), len(test_tasks)"
      ],
      "execution_count": 6,
      "outputs": [
        {
          "output_type": "execute_result",
          "data": {
            "text/plain": [
              "(400, 400, 100)"
            ]
          },
          "metadata": {
            "tags": []
          },
          "execution_count": 6
        }
      ]
    },
    {
      "cell_type": "markdown",
      "metadata": {
        "id": "6wjs0H5p1scI",
        "colab_type": "text"
      },
      "source": [
        "# Data Vizualization"
      ]
    },
    {
      "cell_type": "markdown",
      "metadata": {
        "id": "2jDkYb4uv1oT",
        "colab_type": "text"
      },
      "source": [
        "#### Plot function"
      ]
    },
    {
      "cell_type": "code",
      "metadata": {
        "id": "67915N5nl7-v",
        "colab_type": "code",
        "colab": {}
      },
      "source": [
        "def plot_example(ax, task, i, isType):\n",
        "    cmap = colors.ListedColormap(\n",
        "        ['#000000', '#0074D9','#FF4136','#2ECC40','#FFDC00',\n",
        "         '#AAAAAA', '#F012BE', '#FF851B', '#7FDBFF', '#870C25'])\n",
        "    norm = colors.Normalize(vmin=0, vmax=9)\n",
        "\n",
        "    ax[0].imshow(task[isType][i]['input'], cmap=cmap, norm=norm)\n",
        "    ax[0].axis('off')\n",
        "    ax[0].set_title(isType + ' Input')\n",
        "    ax[0].grid(True,which='both',color='lightgrey', linewidth=0.5)\n",
        "    ax[1].imshow(task[isType][i]['output'], cmap=cmap, norm=norm)\n",
        "    ax[1].axis('off')\n",
        "    ax[1].set_title(isType + ' Output')\n",
        "    ax[1].grid(True,which='both',color='lightgrey', linewidth=0.5)\n",
        "\n",
        "def plot_task(task):\n",
        "    \"\"\"\n",
        "    credits: \n",
        "    kaggle.com/inversion/abstraction-and-reasoning-starter-notebook\n",
        "    kaggle.com/boliu0/visualizing-all-task-pairs-with-gridlines/notebook\n",
        "    \"\"\"\n",
        "    task_count = len(task['train'])\n",
        "    test_count = len(task['test'])\n",
        "\n",
        "    fig, ax = plt.subplots(2, task_count , figsize=(10,6))\n",
        "\n",
        "    for i in range(task_count):\n",
        "      plot_example(ax[:,i], task, i, 'train')\n",
        "\n",
        "    plt.tight_layout()\n",
        "    plt.show()\n",
        "\n",
        "    fig, ax = plt.subplots(2, test_count , figsize=(6,6))\n",
        "    \n",
        "    if test_count == 1:\n",
        "      plot_example(ax, task, 0, 'test')\n",
        "    else:\n",
        "      for i in range(test_count):\n",
        "        plot_example(ax[:,i], task, i, 'test')\n",
        "\n",
        "    plt.tight_layout()\n",
        "    plt.show()"
      ],
      "execution_count": 0,
      "outputs": []
    },
    {
      "cell_type": "markdown",
      "metadata": {
        "id": "1pGBYpjHzQvH",
        "colab_type": "text"
      },
      "source": [
        "## Visualize some tasks"
      ]
    },
    {
      "cell_type": "code",
      "metadata": {
        "id": "fFoTqLe9nAFT",
        "colab_type": "code",
        "outputId": "d95ced44-b583-4f9b-e263-15db08519368",
        "colab": {
          "base_uri": "https://localhost:8080/",
          "height": 0
        }
      },
      "source": [
        "plot_task(train_tasks[1])"
      ],
      "execution_count": 8,
      "outputs": [
        {
          "output_type": "display_data",
          "data": {
            "image/png": "[encoded data removed]",
            "text/plain": [
              "<Figure size 720x432 with 10 Axes>"
            ]
          },
          "metadata": {
            "tags": []
          }
        },
        {
          "output_type": "display_data",
          "data": {
            "image/png": "[encoded data removed]",
            "text/plain": [
              "<Figure size 432x432 with 2 Axes>"
            ]
          },
          "metadata": {
            "tags": []
          }
        }
      ]
    },
    {
      "cell_type": "code",
      "metadata": {
        "id": "ARMgqNkVzGPG",
        "colab_type": "code",
        "outputId": "d759c935-1d8f-425b-825f-7ea474fd634f",
        "colab": {
          "base_uri": "https://localhost:8080/",
          "height": 0
        }
      },
      "source": [
        "plot_task(train_tasks[137])"
      ],
      "execution_count": 9,
      "outputs": [
        {
          "output_type": "display_data",
          "data": {
            "image/png": "[encoded data removed]",
            "text/plain": [
              "<Figure size 720x432 with 6 Axes>"
            ]
          },
          "metadata": {
            "tags": []
          }
        },
        {
          "output_type": "display_data",
          "data": {
            "image/png": "[encoded data removed]",
            "text/plain": [
              "<Figure size 432x432 with 2 Axes>"
            ]
          },
          "metadata": {
            "tags": []
          }
        }
      ]
    },
    {
      "cell_type": "code",
      "metadata": {
        "id": "SR_ARyXKzfzR",
        "colab_type": "code",
        "outputId": "df45d8b4-0c84-445c-eebc-e75c9bf90b76",
        "colab": {
          "base_uri": "https://localhost:8080/",
          "height": 0
        }
      },
      "source": [
        "plot_task(val_tasks[65])"
      ],
      "execution_count": 10,
      "outputs": [
        {
          "output_type": "display_data",
          "data": {
            "image/png": "[encoded data removed]",
            "text/plain": [
              "<Figure size 720x432 with 6 Axes>"
            ]
          },
          "metadata": {
            "tags": []
          }
        },
        {
          "output_type": "display_data",
          "data": {
            "image/png": "[encoded data removed]",
            "text/plain": [
              "<Figure size 432x432 with 2 Axes>"
            ]
          },
          "metadata": {
            "tags": []
          }
        }
      ]
    },
    {
      "cell_type": "markdown",
      "metadata": {
        "id": "AHjyMs1D9cY2",
        "colab_type": "text"
      },
      "source": [
        "# Transform data"
      ]
    },
    {
      "cell_type": "markdown",
      "metadata": {
        "id": "gxyNwORVqnSU",
        "colab_type": "text"
      },
      "source": [
        "### View how training examples are structurized"
      ]
    },
    {
      "cell_type": "code",
      "metadata": {
        "id": "gbt7rpl5zlAQ",
        "colab_type": "code",
        "outputId": "6a0ea0d2-bef4-4ce0-db72-e6f08de40add",
        "colab": {
          "base_uri": "https://localhost:8080/",
          "height": 225
        }
      },
      "source": [
        "train_tasks[1]['train'][0]"
      ],
      "execution_count": 11,
      "outputs": [
        {
          "output_type": "execute_result",
          "data": {
            "text/plain": [
              "{'input': [[0, 0, 0, 0, 0, 0],\n",
              "  [0, 0, 3, 0, 0, 0],\n",
              "  [0, 3, 0, 3, 0, 0],\n",
              "  [0, 0, 3, 0, 3, 0],\n",
              "  [0, 0, 0, 3, 0, 0],\n",
              "  [0, 0, 0, 0, 0, 0]],\n",
              " 'output': [[0, 0, 0, 0, 0, 0],\n",
              "  [0, 0, 3, 0, 0, 0],\n",
              "  [0, 3, 4, 3, 0, 0],\n",
              "  [0, 0, 3, 4, 3, 0],\n",
              "  [0, 0, 0, 3, 0, 0],\n",
              "  [0, 0, 0, 0, 0, 0]]}"
            ]
          },
          "metadata": {
            "tags": []
          },
          "execution_count": 11
        }
      ]
    },
    {
      "cell_type": "code",
      "metadata": {
        "id": "etnB0rOSGBe6",
        "colab_type": "code",
        "colab": {}
      },
      "source": [
        "def input_dim_equals_output_dim(task, isTrain):\n",
        "  for example in task['train']:\n",
        "    if np.array(example['input']).shape != np.array(example['output']).shape:\n",
        "      return False\n",
        "  if isTrain:\n",
        "    for example in task['test']:\n",
        "      if np.array(example['input']).shape != np.array(example['output']).shape:\n",
        "        return False  \n",
        "  \n",
        "  return True"
      ],
      "execution_count": 0,
      "outputs": []
    },
    {
      "cell_type": "code",
      "metadata": {
        "id": "o9hFx-nmH0tJ",
        "colab_type": "code",
        "colab": {}
      },
      "source": [
        "def count_equal_dims(tasks, isTrain=True):\n",
        "  equal_dims = 0\n",
        "  for task in tasks:\n",
        "    equal_dims += input_dim_equals_output_dim(task, isTrain)\n",
        "  return equal_dims"
      ],
      "execution_count": 0,
      "outputs": []
    },
    {
      "cell_type": "code",
      "metadata": {
        "id": "2zuMRMgPHbuS",
        "colab_type": "code",
        "colab": {
          "base_uri": "https://localhost:8080/",
          "height": 69
        },
        "outputId": "43b5f7d8-de9b-4c95-973e-352234ab6f2a"
      },
      "source": [
        "print(\"Number of equal input and output shapes in train:\", count_equal_dims(train_tasks))\n",
        "print(\"Number of equal input and output shapes in val:\", count_equal_dims(val_tasks))\n",
        "print(\"Number of equal input and output shapes in test:\", count_equal_dims(test_tasks, isTrain=False))"
      ],
      "execution_count": 21,
      "outputs": [
        {
          "output_type": "stream",
          "text": [
            "Number of equal input and output shapes in train: 262\n",
            "Number of equal input and output shapes in val: 270\n",
            "Number of equal input and output shapes in test: 65\n"
          ],
          "name": "stdout"
        }
      ]
    },
    {
      "cell_type": "markdown",
      "metadata": {
        "id": "DAipsbk0v67l",
        "colab_type": "text"
      },
      "source": [
        "# Cellular Automata\n",
        "\n",
        "For every problem where the input shape is equal to the output shape we can use a Cellular Automata for the transformation.\n",
        "\n",
        "credits to [arseny-n](kaggle.com/arsenynerinovsky/cellular-automata-as-a-language-for-reasoning ) for introducing cellular automata to this problem set\n",
        "\n",
        " and to [teddykoker](https://www.kaggle.com/teddykoker/training-cellular-automata-part-i-game-of-life) for showing a learned version of a cellular automata\n"
      ]
    },
    {
      "cell_type": "markdown",
      "metadata": {
        "id": "35JQ2YN9BMIS",
        "colab_type": "text"
      },
      "source": [
        "#### Helper functions from teddykoker"
      ]
    },
    {
      "cell_type": "code",
      "metadata": {
        "id": "O9woz4Biv5NG",
        "colab_type": "code",
        "colab": {}
      },
      "source": [
        "def inp2img(inp):\n",
        "    inp = np.array(inp)\n",
        "    img = np.full((inp.shape[0], inp.shape[1], 10), 0, dtype=np.float32)\n",
        "    for i in range(10):\n",
        "        img[:,:,i] = (inp==i)\n",
        "    return tf.expand_dims(img, 0)\n",
        "\n",
        "def input_output_shape_is_same(task):\n",
        "    return all([np.array(el['input']).shape == np.array(el['output']).shape for el in task['train']])\n",
        "\n",
        "\n",
        "def calk_score(task_test, predict):\n",
        "    return [int(np.equal(sample['output'], pred).all()) for sample, pred in zip(task_test, predict)]\n"
      ],
      "execution_count": 0,
      "outputs": []
    },
    {
      "cell_type": "markdown",
      "metadata": {
        "id": "0nFLCf2njNXb",
        "colab_type": "text"
      },
      "source": [
        "# Define Model"
      ]
    },
    {
      "cell_type": "markdown",
      "metadata": {
        "id": "U7BwTp1DhLPr",
        "colab_type": "text"
      },
      "source": [
        "### Currently everything below this is work in progress"
      ]
    },
    {
      "cell_type": "code",
      "metadata": {
        "id": "3xC2i9olsNC4",
        "colab_type": "code",
        "colab": {}
      },
      "source": [
        "STEPS = 50"
      ],
      "execution_count": 0,
      "outputs": []
    },
    {
      "cell_type": "code",
      "metadata": {
        "id": "L5befkITxwb7",
        "colab_type": "code",
        "colab": {}
      },
      "source": [
        "class CAModel(tf.keras.layers.Layer):\n",
        "  def __init__(self):\n",
        "    super(CAModel, self).__init__()\n",
        "    self.transition = Sequential([\n",
        "        Conv2D(128, 3, padding='same', input_shape=(None, None, 10)),\n",
        "        Activation('relu'),\n",
        "        Conv2D(10, 1)\n",
        "    ])\n",
        "    \n",
        "  def call(self, x, steps=1):\n",
        "    for _ in range(steps):\n",
        "      x = self.transition(tf.keras.activations.softmax(x, axis=1))\n",
        "    return x"
      ],
      "execution_count": 0,
      "outputs": []
    },
    {
      "cell_type": "code",
      "metadata": {
        "id": "6L7RDm5dfjn-",
        "colab_type": "code",
        "colab": {}
      },
      "source": [
        "def ca_model(max_steps=10):\n",
        "  model = Sequential([CAModel()])\n",
        "  model.compile(\n",
        "      optimizer='adam',\n",
        "      loss='categorical_crossentropy',\n",
        "      metrics=['accuracy']\n",
        "  )\n",
        "\n",
        "  return model"
      ],
      "execution_count": 0,
      "outputs": []
    },
    {
      "cell_type": "code",
      "metadata": {
        "id": "1BSBVDDftMrg",
        "colab_type": "code",
        "colab": {}
      },
      "source": [
        "task_sample = train_tasks[1]['train'][0]\n",
        "x = inp2img(task_sample['input'])"
      ],
      "execution_count": 0,
      "outputs": []
    },
    {
      "cell_type": "code",
      "metadata": {
        "id": "BPklwEJ8hP2z",
        "colab_type": "code",
        "outputId": "28fe7cc9-d999-497f-fab8-57926f5b98b3",
        "colab": {
          "base_uri": "https://localhost:8080/",
          "height": 1000
        }
      },
      "source": [
        "model = ca_model(task_sample)\n",
        "model(x)"
      ],
      "execution_count": 26,
      "outputs": [
        {
          "output_type": "execute_result",
          "data": {
            "text/plain": [
              "<tf.Tensor: shape=(1, 6, 6, 10), dtype=float32, numpy=\n",
              "array([[[[-0.05978473, -0.00424744,  0.00274773,  0.00779328,\n",
              "           0.02316993, -0.02289036,  0.06171044,  0.02619605,\n",
              "           0.03781301,  0.04351518],\n",
              "         [-0.07310116, -0.03449341,  0.02439341,  0.01316208,\n",
              "           0.05320369, -0.05670883,  0.09695575,  0.0461618 ,\n",
              "           0.02684572,  0.08223306],\n",
              "         [-0.06369761, -0.04648337,  0.02259514,  0.01033731,\n",
              "           0.05908274, -0.04897864,  0.09138334,  0.05569817,\n",
              "           0.02887585,  0.07252704],\n",
              "         [-0.07173937, -0.0384394 ,  0.02345245,  0.01185155,\n",
              "           0.05293516, -0.06220925,  0.08947908,  0.05598217,\n",
              "           0.01731367,  0.07252726],\n",
              "         [-0.06995372, -0.03821782,  0.02954123,  0.01277312,\n",
              "           0.05141533, -0.0461196 ,  0.09452569,  0.04928635,\n",
              "           0.02323691,  0.06789475],\n",
              "         [-0.02445023, -0.04590058,  0.07143459, -0.01539101,\n",
              "           0.00620625, -0.02146358,  0.06123649,  0.02368165,\n",
              "           0.0296811 ,  0.05963451]],\n",
              "\n",
              "        [[-0.02908608, -0.00273004,  0.01214366, -0.01064784,\n",
              "          -0.02868472, -0.0198926 ,  0.09504691, -0.00055919,\n",
              "           0.03262606,  0.05453094],\n",
              "         [-0.04309065, -0.02288192,  0.04045795,  0.01742489,\n",
              "           0.00611726, -0.05769237,  0.11630869,  0.03265059,\n",
              "           0.01145734,  0.04324662],\n",
              "         [-0.06839162, -0.02385932,  0.02407254,  0.0159064 ,\n",
              "           0.01510656, -0.09196546,  0.11206711,  0.0294111 ,\n",
              "           0.01953001,  0.0803571 ],\n",
              "         [-0.04722736, -0.03431331,  0.03932478,  0.01601524,\n",
              "           0.00815529, -0.05907624,  0.10669528,  0.0397649 ,\n",
              "           0.02753161,  0.05099458],\n",
              "         [-0.06347962, -0.02314864,  0.02527037,  0.01771514,\n",
              "           0.00698174, -0.07158017,  0.10350378,  0.03140395,\n",
              "           0.01601652,  0.05730231],\n",
              "         [-0.03518252, -0.04127316,  0.05471517,  0.00278508,\n",
              "          -0.0123884 , -0.02386096,  0.05164601,  0.02667009,\n",
              "           0.03965139,  0.05814487]],\n",
              "\n",
              "        [[-0.03983956,  0.00937873,  0.05122391, -0.01127028,\n",
              "          -0.01161208, -0.01433192,  0.09471346, -0.00785621,\n",
              "           0.02365903,  0.02578988],\n",
              "         [-0.06698213, -0.01468234,  0.02238078,  0.01785342,\n",
              "           0.0282784 , -0.08644984,  0.10827996,  0.01319356,\n",
              "           0.01584514,  0.07620275],\n",
              "         [-0.02988856, -0.0206665 ,  0.05900136,  0.03375575,\n",
              "           0.00325763, -0.0312824 ,  0.11172597,  0.02941965,\n",
              "          -0.00101865,  0.02214634],\n",
              "         [-0.07446639, -0.00813709,  0.01924526,  0.02542304,\n",
              "           0.02002681, -0.09160684,  0.11663909,  0.01837304,\n",
              "           0.01319087,  0.06551814],\n",
              "         [-0.03891601, -0.03127985,  0.04027306,  0.01345349,\n",
              "           0.00991936, -0.06062698,  0.11006195,  0.03643711,\n",
              "           0.0235651 ,  0.05608132],\n",
              "         [-0.02609382, -0.04627853,  0.04683959,  0.00432076,\n",
              "          -0.01168707, -0.02890474,  0.05150915,  0.03656025,\n",
              "           0.03096657,  0.06627895]],\n",
              "\n",
              "        [[-0.03049734,  0.0134078 ,  0.02104298, -0.00274108,\n",
              "          -0.01362214, -0.02274616,  0.07471909, -0.01733355,\n",
              "           0.04069421,  0.03787003],\n",
              "         [-0.04737321, -0.00910627,  0.04587595,  0.04983423,\n",
              "          -0.00488679, -0.02983397,  0.10988081,  0.01067277,\n",
              "          -0.01018779,  0.01134487],\n",
              "         [-0.07778849, -0.00193096,  0.01719957,  0.0250499 ,\n",
              "           0.02876092, -0.08576537,  0.10896726,  0.01005075,\n",
              "           0.01665103,  0.05818317],\n",
              "         [-0.03131477, -0.01569752,  0.0577533 ,  0.02879514,\n",
              "           0.00473488, -0.03048145,  0.11725801,  0.02059567,\n",
              "          -0.00743831,  0.02459603],\n",
              "         [-0.06809019, -0.01046599,  0.01877976,  0.03481801,\n",
              "           0.02493452, -0.08219149,  0.10973733,  0.01903886,\n",
              "           0.0088109 ,  0.06016947],\n",
              "         [-0.02810964, -0.04984351,  0.05954051,  0.00520552,\n",
              "          -0.00815746, -0.0155761 ,  0.04680083,  0.02813013,\n",
              "           0.03546586,  0.0625461 ]],\n",
              "\n",
              "        [[-0.03056404, -0.00064669,  0.02509573,  0.0014885 ,\n",
              "          -0.0160274 , -0.01062428,  0.087523  ,  0.00415211,\n",
              "           0.03381657,  0.03888446],\n",
              "         [-0.06064317, -0.02097095,  0.02127287,  0.02326443,\n",
              "           0.01172081, -0.06468569,  0.0968266 ,  0.02649613,\n",
              "           0.01702009,  0.04674782],\n",
              "         [-0.05765823, -0.01139083,  0.04655845,  0.04366184,\n",
              "          -0.00467299, -0.02877455,  0.10863672,  0.01210319,\n",
              "          -0.00783526,  0.01461251],\n",
              "         [-0.07030176, -0.00576103,  0.02014757,  0.0286433 ,\n",
              "           0.02698059, -0.07686081,  0.10288586,  0.01211522,\n",
              "           0.01079357,  0.04780095],\n",
              "         [-0.04187913, -0.0189591 ,  0.04691192,  0.0465113 ,\n",
              "          -0.00176874, -0.02898411,  0.10344084,  0.01187816,\n",
              "           0.00449819,  0.02366535],\n",
              "         [-0.04472412, -0.0269614 ,  0.04983005,  0.01429052,\n",
              "          -0.00663303, -0.02402607,  0.05531403,  0.0275757 ,\n",
              "           0.03864392,  0.04376039]],\n",
              "\n",
              "        [[-0.0386175 ,  0.00172415,  0.0133866 ,  0.0328258 ,\n",
              "          -0.01077681, -0.00721263,  0.0806492 , -0.01210282,\n",
              "           0.03618746, -0.00554031],\n",
              "         [-0.04120073, -0.01971464, -0.01228923,  0.04816871,\n",
              "           0.00198959, -0.05472152,  0.08275347,  0.03171312,\n",
              "           0.00585174,  0.00338981],\n",
              "         [-0.04232869, -0.01433004, -0.01390732,  0.03605233,\n",
              "           0.00565247, -0.05937055,  0.07865287,  0.03304421,\n",
              "           0.00635386,  0.00819807],\n",
              "         [-0.03335805, -0.01976845, -0.00646837,  0.05207599,\n",
              "          -0.01655792, -0.02150597,  0.08098194,  0.02597429,\n",
              "          -0.00522611, -0.00908949],\n",
              "         [-0.04574621, -0.00226716, -0.01574237,  0.0556323 ,\n",
              "           0.0062183 , -0.05369156,  0.08949521,  0.02220632,\n",
              "          -0.00512248, -0.00293156],\n",
              "         [-0.0197797 , -0.01401513,  0.01472795,  0.03041111,\n",
              "          -0.00161131, -0.01212552,  0.04900952,  0.02392538,\n",
              "           0.03002556,  0.02743515]]]], dtype=float32)>"
            ]
          },
          "metadata": {
            "tags": []
          },
          "execution_count": 26
        }
      ]
    },
    {
      "cell_type": "code",
      "metadata": {
        "id": "4ZIQH8ZTwjJw",
        "colab_type": "code",
        "colab": {}
      },
      "source": [
        ""
      ],
      "execution_count": 0,
      "outputs": []
    }
  ]
}
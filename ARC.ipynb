{
  "nbformat": 4,
  "nbformat_minor": 0,
  "metadata": {
    "colab": {
      "name": "ARC.ipynb",
      "provenance": [],
      "collapsed_sections": [],
      "include_colab_link": true
    },
    "kernelspec": {
      "name": "python3",
      "display_name": "Python 3"
    },
    "accelerator": "GPU"
  },
  "cells": [
    {
      "cell_type": "markdown",
      "metadata": {
        "id": "view-in-github",
        "colab_type": "text"
      },
      "source": [
        "<a href=\"https://colab.research.google.com/github/tnfru/abstraction_and_reasoning/blob/master/ARC.ipynb\" target=\"_parent\"><img src=\"https://colab.research.google.com/assets/colab-badge.svg\" alt=\"Open In Colab\"/></a>"
      ]
    },
    {
      "cell_type": "code",
      "metadata": {
        "id": "rTty1fNJbePh",
        "colab": {
          "base_uri": "https://localhost:8080/"
        },
        "outputId": "2100ab9b-e0ba-4eef-dd21-089a5da00fae"
      },
      "source": [
        "import sys\n",
        "if 'google.colab' in sys.modules:\n",
        "  %tensorflow_version 2.x\n",
        "\n",
        "  !wget https://raw.githubusercontent.com/tnfru/abstraction_and_reasoning/master/data_utils.py -P utils -nc\n",
        "\n",
        "  !wget https://raw.githubusercontent.com/tnfru/abstraction_and_reasoning/master/cellular_automata.py -P utils -nc\n",
        "  sys.path.append('utils')\n",
        "\n",
        "  from google_drive_downloader import GoogleDriveDownloader as gdd"
      ],
      "execution_count": 11,
      "outputs": [
        {
          "output_type": "stream",
          "name": "stdout",
          "text": [
            "File ‘utils/data_utils.py’ already there; not retrieving.\n",
            "\n",
            "File ‘utils/cellular_automata.py’ already there; not retrieving.\n",
            "\n"
          ]
        }
      ]
    },
    {
      "cell_type": "code",
      "metadata": {
        "id": "grWM-1SYcqeb"
      },
      "source": [
        "import os, json\n",
        "import numpy as np\n",
        "from matplotlib import pyplot as plt\n",
        "\n",
        "import tensorflow as tf\n",
        "from tensorflow.keras.layers import Conv2D, BatchNormalization, Activation, Input, Dropout\n",
        "from tensorflow.keras.activations import softmax\n",
        "from tensorflow.keras import Sequential\n",
        "\n",
        "import data_utils\n",
        "from data_utils import plot_task, plot_prediction, inp2img\n",
        "import cellular_automata"
      ],
      "execution_count": 2,
      "outputs": []
    },
    {
      "cell_type": "markdown",
      "metadata": {
        "id": "NCEATf256UID"
      },
      "source": [
        "### Set strategy"
      ]
    },
    {
      "cell_type": "code",
      "metadata": {
        "id": "vd6ZfNAv6SdY",
        "colab": {
          "base_uri": "https://localhost:8080/"
        },
        "outputId": "f73adab6-8b5c-49ca-e625-d68e6ee4299c"
      },
      "source": [
        "gpus = tf.config.experimental.list_logical_devices(\"GPU\")\n",
        "\n",
        "if len(gpus) > 0:\n",
        "  strategy = tf.distribute.MirroredStrategy(gpus)\n",
        "  print('Running on ', len(gpus), ' GPU(s) ')\n",
        "else:\n",
        "  strategy = tf.distribute.get_strategy()\n",
        "  print('Running on CPU')"
      ],
      "execution_count": 3,
      "outputs": [
        {
          "output_type": "stream",
          "name": "stdout",
          "text": [
            "INFO:tensorflow:Using MirroredStrategy with devices ('/job:localhost/replica:0/task:0/device:GPU:0',)\n",
            "Running on  1  GPU(s) \n"
          ]
        }
      ]
    },
    {
      "cell_type": "markdown",
      "metadata": {
        "id": "8o7bNcH-m1ZT"
      },
      "source": [
        "## Read Data"
      ]
    },
    {
      "cell_type": "code",
      "metadata": {
        "id": "7Mz6lUS9ens3",
        "colab": {
          "base_uri": "https://localhost:8080/"
        },
        "outputId": "b2996c6b-fc84-4cd6-d958-2426e7d9e6b0"
      },
      "source": [
        "if 'google.colab' in sys.modules:\n",
        "  gdd.download_file_from_google_drive(file_id='1FUk30rXuym1RygfaDq4g-Uj-CkkG63IE',\n",
        "                                      dest_path='./data/arc.zip',\n",
        "                                      unzip=True)\n",
        "train_tasks, val_tasks, test_tasks = data_utils.get_task_sets()"
      ],
      "execution_count": 4,
      "outputs": [
        {
          "output_type": "stream",
          "name": "stdout",
          "text": [
            "Downloading 1FUk30rXuym1RygfaDq4g-Uj-CkkG63IE into ./data/arc.zip... Done.\n",
            "Unzipping...Done.\n"
          ]
        }
      ]
    },
    {
      "cell_type": "code",
      "metadata": {
        "id": "2zuMRMgPHbuS",
        "colab": {
          "base_uri": "https://localhost:8080/"
        },
        "outputId": "3bb78ea7-2afa-4304-cfcb-8ceb14402afa"
      },
      "source": [
        "print(\"Number of equal input and output shapes in train:\", data_utils.count_equal_dims(train_tasks), \"of\", len(train_tasks))\n",
        "print(\"Number of equal input and output shapes in val:\", data_utils.count_equal_dims(val_tasks), \"of\", len(val_tasks))\n",
        "print(\"Number of equal input and output shapes in test:\", data_utils.count_equal_dims(test_tasks, isTrain=False), \"of\", len(test_tasks))"
      ],
      "execution_count": 7,
      "outputs": [
        {
          "output_type": "stream",
          "name": "stdout",
          "text": [
            "Number of equal input and output shapes in train: 262 of 400\n",
            "Number of equal input and output shapes in val: 270 of 400\n",
            "Number of equal input and output shapes in test: 65 of 100\n"
          ]
        }
      ]
    },
    {
      "cell_type": "code",
      "metadata": {
        "id": "-HptRnmngvmY"
      },
      "source": [
        "BENCHMARK_TASK_IDS = [1, 347, 26, 32]"
      ],
      "execution_count": 8,
      "outputs": []
    },
    {
      "cell_type": "markdown",
      "metadata": {
        "id": "DAipsbk0v67l"
      },
      "source": [
        "# Cellular Automata\n",
        "\n",
        "For every problem where the input shape is equal to the output shape we can use a Cellular Automata for the transformation.\n",
        "\n",
        "I want to thank [arseny-n](kaggle.com/arsenynerinovsky/cellular-automata-as-a-language-for-reasoning ) for introducing cellular automata to this problem set.\n",
        "\n",
        "The CA model I use here is an implementation of [teddykokers PyTorch CA](https://www.kaggle.com/teddykoker/training-cellular-automata-part-i-game-of-life) in tensorflow. I really like the the architecture teddy suggested, so I took the opportunity to practise translating a model from torch to tf.\n"
      ]
    },
    {
      "cell_type": "markdown",
      "metadata": {
        "id": "OGqdo8tpzgbD"
      },
      "source": [
        "## Vizualize results"
      ]
    },
    {
      "cell_type": "code",
      "metadata": {
        "id": "BJFh1vCMODYQ"
      },
      "source": [
        "def get_model():\n",
        "  inputs = Input(shape=(None, None, 10))\n",
        "  x = Conv2D(128, 3, padding='same')(inputs)\n",
        "  x = Activation('relu')(x)\n",
        "  x = Dropout(0.1)(x)\n",
        "  x = Conv2D(10, 1)(x)\n",
        "  outputs = softmax(x, axis=3)\n",
        "\n",
        "  return tf.keras.Model(inputs=inputs, outputs=outputs)"
      ],
      "execution_count": 9,
      "outputs": []
    },
    {
      "cell_type": "code",
      "metadata": {
        "id": "Nvwgj9sTODYR",
        "outputId": "c2e83fa4-bc01-4f2e-e606-c7fcb8fcea9e",
        "colab": {
          "base_uri": "https://localhost:8080/",
          "height": 1000
        }
      },
      "source": [
        "cellular_automata.train_and_plot(train_tasks, [1], model_fn=get_model)"
      ],
      "execution_count": 10,
      "outputs": [
        {
          "output_type": "display_data",
          "data": {
            "image/png": "[encoded data removed]",
            "text/plain": [
              "<Figure size 432x288 with 1 Axes>"
            ]
          },
          "metadata": {
            "needs_background": "light"
          }
        },
        {
          "output_type": "display_data",
          "data": {
            "image/png": "[encoded data removed]",
            "text/plain": [
              "<Figure size 432x2304 with 3 Axes>"
            ]
          },
          "metadata": {
            "needs_background": "light"
          }
        },
        {
          "output_type": "display_data",
          "data": {
            "image/png": "[encoded data removed]",
            "text/plain": [
              "<Figure size 432x2304 with 3 Axes>"
            ]
          },
          "metadata": {
            "needs_background": "light"
          }
        },
        {
          "output_type": "display_data",
          "data": {
            "image/png": "[encoded data removed]",
            "text/plain": [
              "<Figure size 432x2304 with 3 Axes>"
            ]
          },
          "metadata": {
            "needs_background": "light"
          }
        },
        {
          "output_type": "display_data",
          "data": {
            "image/png": "[encoded data removed]",
            "text/plain": [
              "<Figure size 432x2304 with 3 Axes>"
            ]
          },
          "metadata": {
            "needs_background": "light"
          }
        },
        {
          "output_type": "display_data",
          "data": {
            "image/png": "[encoded data removed]",
            "text/plain": [
              "<Figure size 432x2304 with 3 Axes>"
            ]
          },
          "metadata": {
            "needs_background": "light"
          }
        },
        {
          "output_type": "display_data",
          "data": {
            "image/png": "[encoded data removed]",
            "text/plain": [
              "<Figure size 432x2304 with 3 Axes>"
            ]
          },
          "metadata": {
            "needs_background": "light"
          }
        }
      ]
    },
    {
      "cell_type": "code",
      "metadata": {
        "id": "QUBXux6hOYFb"
      },
      "source": [
        ""
      ],
      "execution_count": null,
      "outputs": []
    }
  ]
}
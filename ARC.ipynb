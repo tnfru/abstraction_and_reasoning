{
  "nbformat": 4,
  "nbformat_minor": 0,
  "metadata": {
    "colab": {
      "name": "ARC.ipynb",
      "provenance": [],
      "collapsed_sections": [],
      "include_colab_link": true
    },
    "kernelspec": {
      "name": "python3",
      "display_name": "Python 3"
    },
    "accelerator": "GPU"
  },
  "cells": [
    {
      "cell_type": "markdown",
      "metadata": {
        "id": "view-in-github",
        "colab_type": "text"
      },
      "source": [
        "<a href=\"https://colab.research.google.com/github/tnfru/abstraction_and_reasoning/blob/master/ARC.ipynb\" target=\"_parent\"><img src=\"https://colab.research.google.com/assets/colab-badge.svg\" alt=\"Open In Colab\"/></a>"
      ]
    },
    {
      "cell_type": "code",
      "metadata": {
        "id": "rTty1fNJbePh",
        "colab_type": "code",
        "colab": {
          "base_uri": "https://localhost:8080/",
          "height": 208
        },
        "outputId": "23c47939-0e11-474e-be99-2774c233a809"
      },
      "source": [
        "import sys\n",
        "if 'google.colab' in sys.modules:\n",
        "  %tensorflow_version 2.x\n",
        "\n",
        "  !wget https://raw.githubusercontent.com/tnfru/abstraction_and_reasoning/master/data_utils.py -P local_modules -nc\n",
        "  sys.path.append('local_modules')\n",
        "\n",
        "  from google_drive_downloader import GoogleDriveDownloader as gdd"
      ],
      "execution_count": 6,
      "outputs": []
    },
    {
      "cell_type": "code",
      "metadata": {
        "id": "grWM-1SYcqeb",
        "colab_type": "code",
        "outputId": "e3756179-b467-47c4-ea66-691d735a645c",
        "colab": {
          "base_uri": "https://localhost:8080/",
          "height": 34
        }
      },
      "source": [
        "import os, json\n",
        "import numpy as np\n",
        "from matplotlib import pyplot as plt\n",
        "\n",
        "import tensorflow as tf\n",
        "from tensorflow.keras.layers import Conv2D, BatchNormalization, Activation, Input\n",
        "from tensorflow.keras.activations import softmax\n",
        "from tensorflow.keras import Sequential\n",
        "\n",
        "import data_utils\n",
        "from data_utils import plot_task, plot_prediction, inp2img\n",
        "import cellular_automata"
      ],
      "execution_count": 7,
      "outputs": []
    },
    {
      "cell_type": "markdown",
      "metadata": {
        "id": "NCEATf256UID",
        "colab_type": "text"
      },
      "source": [
        "### Set strategy"
      ]
    },
    {
      "cell_type": "code",
      "metadata": {
        "id": "vd6ZfNAv6SdY",
        "colab_type": "code",
        "outputId": "e5da0c95-7fb4-4f22-8833-7352b9516862",
        "colab": {
          "base_uri": "https://localhost:8080/",
          "height": 52
        }
      },
      "source": [
        "gpus = tf.config.experimental.list_logical_devices(\"GPU\")\n",
        "\n",
        "if len(gpus) > 0:\n",
        "  strategy = tf.distribute.MirroredStrategy(gpus)\n",
        "  print('Running on ', len(gpus), ' GPU(s) ')\n",
        "else:\n",
        "  strategy = tf.distribute.get_strategy()\n",
        "  print('Running on CPU')"
      ],
      "execution_count": 8,
      "outputs": [
        {
          "output_type": "stream",
          "name": "stdout",
          "text": "Running on CPU\n"
        }
      ]
    },
    {
      "cell_type": "markdown",
      "metadata": {
        "id": "8o7bNcH-m1ZT",
        "colab_type": "text"
      },
      "source": [
        "## Read Data"
      ]
    },
    {
      "cell_type": "code",
      "metadata": {
        "id": "7Mz6lUS9ens3",
        "colab_type": "code",
        "colab": {
          "base_uri": "https://localhost:8080/",
          "height": 52
        },
        "outputId": "544037b8-6594-4d18-c261-d15f8b04fc36"
      },
      "source": [
        "if 'google.colab' in sys.modules:\n",
        "  gdd.download_file_from_google_drive(file_id='1FUk30rXuym1RygfaDq4g-Uj-CkkG63IE',\n",
        "                                      dest_path='./data/arc.zip',\n",
        "                                      unzip=True)\n",
        "train_tasks, val_tasks, test_tasks = data_utils.get_task_sets()"
      ],
      "execution_count": 9,
      "outputs": []
    },
    {
      "cell_type": "code",
      "metadata": {
        "id": "2zuMRMgPHbuS",
        "colab_type": "code",
        "outputId": "eb90ec94-5fb0-4d9f-efe0-43cd4002cd7f",
        "colab": {
          "base_uri": "https://localhost:8080/",
          "height": 69
        }
      },
      "source": [
        "print(\"Number of equal input and output shapes in train:\", data_utils.count_equal_dims(train_tasks), \"of\", len(train_tasks))\n",
        "print(\"Number of equal input and output shapes in val:\", data_utils.count_equal_dims(val_tasks), \"of\", len(val_tasks))\n",
        "print(\"Number of equal input and output shapes in test:\", data_utils.count_equal_dims(test_tasks, isTrain=False), \"of\", len(test_tasks))"
      ],
      "execution_count": 10,
      "outputs": [
        {
          "output_type": "stream",
          "name": "stdout",
          "text": "Number of equal input and output shapes in train: 262 of 400\nNumber of equal input and output shapes in val: 270 of 400\nNumber of equal input and output shapes in test: 65 of 100\n"
        }
      ]
    },
    {
      "cell_type": "markdown",
      "metadata": {
        "id": "DAipsbk0v67l",
        "colab_type": "text"
      },
      "source": [
        "# Cellular Automata\n",
        "\n",
        "For every problem where the input shape is equal to the output shape we can use a Cellular Automata for the transformation.\n",
        "\n",
        "I want to thank [arseny-n](kaggle.com/arsenynerinovsky/cellular-automata-as-a-language-for-reasoning ) for introducing cellular automata to this problem set.\n",
        "\n",
        "This notebook is an implementation of [teddykokers PyTorch CA](https://www.kaggle.com/teddykoker/training-cellular-automata-part-i-game-of-life) in tensorflow. I really like the the architecture teddy suggested, so I took the opportunity to practise translating a model from torch to tf.\n"
      ]
    },
    {
      "cell_type": "markdown",
      "metadata": {
        "id": "OGqdo8tpzgbD",
        "colab_type": "text"
      },
      "source": [
        "## Vizualize results"
      ]
    },
    {
      "cell_type": "code",
      "metadata": {
        "id": "saPpd80NXg5L",
        "colab_type": "code",
        "outputId": "82a3811f-0749-42bd-c613-1dbd535d40cb",
        "colab": {
          "base_uri": "https://localhost:8080/",
          "height": 1000
        }
      },
      "source": [
        "cellular_automata.benchmark(train_tasks)"
      ],
      "execution_count": 6,
      "outputs": [
        {
          "output_type": "error",
          "ename": "NameError",
          "evalue": "name 'cellular_automata' is not defined",
          "traceback": [
            "\u001b[0;31m---------------------------------------------------------------------------\u001b[0m",
            "\u001b[0;31mNameError\u001b[0m                                 Traceback (most recent call last)",
            "\u001b[0;32m<ipython-input-6-e90b55857116>\u001b[0m in \u001b[0;36m<module>\u001b[0;34m\u001b[0m\n\u001b[0;32m----> 1\u001b[0;31m \u001b[0mcellular_automata\u001b[0m\u001b[0;34m.\u001b[0m\u001b[0mbenchmark\u001b[0m\u001b[0;34m(\u001b[0m\u001b[0mtrain_tasks\u001b[0m\u001b[0;34m)\u001b[0m\u001b[0;34m\u001b[0m\u001b[0;34m\u001b[0m\u001b[0m\n\u001b[0m",
            "\u001b[0;31mNameError\u001b[0m: name 'cellular_automata' is not defined"
          ]
        }
      ]
    }
  ]
}